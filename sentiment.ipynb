{
  "cells": [
    {
      "metadata": {
        "_uuid": "71fff663eb9075c63db6ddd0904379ffbcdcad20",
        "_cell_guid": "88051c3d-4a44-4ec6-8adb-c1d38653e94d"
      },
      "cell_type": "markdown",
      "source": "# Data Science Challenge\n\n## Overview\n\nThe focus of this exercise is  on a field within machine learning called [Natural Language Processing](https://en.wikipedia.org/wiki/Natural-language_processing). We can think of this field as the intersection between language, and machine learning. Tasks in this field include automatic translation (Google translate), intelligent personal assistants (Siri), predictive text, and speech recognition for example.\n\nNLP uses many of the same techniques as traditional data science, but also features a number of specialised skills and approaches. There is no expectation that you have any experience with NLP, however, to complete the challenge it will be useful to have the following skills:\n\n- understanding of the python programming language, or similar third generation language.\n- understanding of basic machine learning concepts, i.e. supervised learning\n\n\n### Instructions\n\n1. Create a Kaggle account and `fork` this notebook.\n2. Answer each of the provided questions, including your source code as cells in this notebook.\n3. Provide us a link to your Kaggle notebook at your convenience.\n\n### Task description\n\nYou will be performing a task known as [sentiment analysis](https://en.wikipedia.org/wiki/Sentiment_analysis). Here, the goal is to predict sentiment -- the emotional intent behind a statement -- from text. For example, the sentence: \"*This movie was terrible!\"* has a negative sentiment, whereas \"*loved this cinematic masterpiece*\" has a positive sentiment.\n\nTo simplify the task, we consider sentiment binary: labels of `1` indicate a sentence has a positive sentiment, and labels of `0` indicate that the sentence has a negative sentiment.\n\n### Dataset\n\nThe dataset is split across three files, representing three different sources -- Amazon, Yelp and IMDB. Your task is to build a sentiment analysis model using both the Yelp and IMDB data as your training-set, and test the performance of your model on the Amazon data.\n\nEach file can be found in the `../input` directory, and contains 1000 rows of data. Each row contains a sentence, a `tab` character and then a label -- `0` or `1`. \n\n**Notes**\n- This environment comes with a wide range of ML libraries installed. If you wish to include more, go to the 'Settings' tab and input the `pip install` command as required.\n- Suggested libraries: `sklearn` (for machine learning), `pandas` (for loading/processing data).\n- As mentioned, you are not expected to have previous experience with this exact task. You are free to refer to external tutorials/resources to assist you. However, you will be asked to justfify the choices you have made -- so make you understand the approach you have taken."
    },
    {
      "metadata": {
        "_uuid": "8f2839f25d086af736a60e9eeb907d3b93b6e0e5",
        "_cell_guid": "b1076dfc-b9ad-4769-8c92-a6c4dae69d19",
        "trusted": true
      },
      "cell_type": "code",
      "source": "import os\nprint(os.listdir(\"../input\"))",
      "execution_count": 1,
      "outputs": [
        {
          "output_type": "stream",
          "text": "['readme.txt', 'amazon_cells_labelled.txt', 'yelp_labelled.txt', 'imdb_labelled.txt']\n",
          "name": "stdout"
        }
      ]
    },
    {
      "metadata": {
        "_uuid": "d629ff2d2480ee46fbb7e2d37f6b5fab8052498a",
        "_cell_guid": "79c7e3d0-c299-4dcb-8224-4455121ee9b0",
        "scrolled": true,
        "trusted": true
      },
      "cell_type": "code",
      "source": "!head \"../input/amazon_cells_labelled.txt\"",
      "execution_count": 2,
      "outputs": [
        {
          "output_type": "stream",
          "text": "So there is no way for me to plug it in here in the US unless I go by a converter.\t0\r\nGood case, Excellent value.\t1\r\nGreat for the jawbone.\t1\r\nTied to charger for conversations lasting more than 45 minutes.MAJOR PROBLEMS!!\t0\r\nThe mic is great.\t1\r\nI have to jiggle the plug to get it to line up right to get decent volume.\t0\r\nIf you have several dozen or several hundred contacts, then imagine the fun of sending each of them one by one.\t0\r\nIf you are Razr owner...you must have this!\t1\r\nNeedless to say, I wasted my money.\t0\r\nWhat a waste of money and time!.\t0\r\n",
          "name": "stdout"
        }
      ]
    },
    {
      "metadata": {
        "_uuid": "cbd1a4b1d16ce7db6def7b3b393b48618d7e4777",
        "_cell_guid": "387106cd-e89a-462f-b204-a91a73d12137"
      },
      "cell_type": "markdown",
      "source": "# Tasks\n### 1. Read and concatenate data into test and train sets.\n### 2. Prepare the data for input into your model."
    },
    {
      "metadata": {
        "_uuid": "78e68e8665b43c7e45625fa25cbae9999632ac8b",
        "_cell_guid": "4aa4c67a-7d4a-4baf-9108-7636f6514c9c",
        "trusted": true
      },
      "cell_type": "code",
      "source": "import os\nimport random\n\nDATA_PATH = '../input'\nLABEL_MAP= {\n    1: 'positive',\n    0: 'negative'\n}\n\nTRAIN_FILES = {'yelp_labelled.txt', 'imdb_labelled.txt'}\nTEST_FILES = {'amazon_cells_labelled.txt'}\n\ndef iter_instances_at_path(path):\n    with open(path, 'rt') as f:\n        for i, line in enumerate(f):\n            sentence, label = line.split('\\t')\n            \n            # some very basic data norm and validation, break-out if it gets more complicated\n            sentence = sentence.strip()\n            label = int(label)\n            assert sentence\n            assert label in LABEL_MAP\n\n            yield {\n                'sentence': sentence,\n                'label': label,\n                'source': {\n                    'path': os.path.basename(path),\n                    'idx': i\n                },\n            }\n\nfiles = TRAIN_FILES.union(TEST_FILES)\nitems = [i for p in files for i in iter_instances_at_path(os.path.join(DATA_PATH, p))]\nprint(\"Read {:d} items from {:d} files...\".format(len(items), len(files)))",
      "execution_count": 3,
      "outputs": [
        {
          "output_type": "stream",
          "text": "Read 3000 items from 3 files...\n",
          "name": "stdout"
        }
      ]
    },
    {
      "metadata": {
        "_uuid": "3f9749941ff3b9f0b6b377cdfdad0de92fb5afd2",
        "_cell_guid": "1c9e1839-3504-4d77-88bb-702365c1547f",
        "trusted": true
      },
      "cell_type": "code",
      "source": "items[:1]",
      "execution_count": 4,
      "outputs": [
        {
          "output_type": "execute_result",
          "execution_count": 4,
          "data": {
            "text/plain": "[{'label': 0,\n  'sentence': 'So there is no way for me to plug it in here in the US unless I go by a converter.',\n  'source': {'idx': 0, 'path': 'amazon_cells_labelled.txt'}}]"
          },
          "metadata": {}
        }
      ]
    },
    {
      "metadata": {
        "_uuid": "ff2b301dd19afb54a67bf51d062259cc949a1522",
        "_cell_guid": "20284b00-d12f-4ed3-83ca-4731033a9bc8",
        "collapsed": true,
        "trusted": true
      },
      "cell_type": "code",
      "source": "import spacy\n\n# use spacy for the low-level cookie-cutter text processing (i.e. tokenization)\n# we will also make use of word vectors and dependency parse features\nnlp = spacy.load('en_core_web_lg')\n\ndef preprocess_item(item):\n    item['doc'] = nlp(item['sentence'])\n    return item",
      "execution_count": 5,
      "outputs": []
    },
    {
      "metadata": {
        "_uuid": "dd99a9843b20385972016bd51d160450c840d8c8",
        "_cell_guid": "1dd94834-9376-4eca-9238-f512eebdba3d",
        "trusted": true
      },
      "cell_type": "code",
      "source": "from tqdm import tqdm_notebook as tqdm\nitems = [preprocess_item(i) for i in tqdm(items)]",
      "execution_count": 6,
      "outputs": [
        {
          "output_type": "display_data",
          "data": {
            "text/plain": "A Jupyter Widget",
            "application/vnd.jupyter.widget-view+json": {
              "version_major": 2,
              "version_minor": 0,
              "model_id": "61bbdb984dc1407cb0431f4e973ffbcc"
            }
          },
          "metadata": {}
        },
        {
          "output_type": "stream",
          "text": "\n",
          "name": "stdout"
        }
      ]
    },
    {
      "metadata": {
        "_uuid": "c093abcdcbc3bc669777b2243db199edd0582bfb",
        "_cell_guid": "d76c8751-0117-47f1-8948-f82574c99296",
        "trusted": true
      },
      "cell_type": "code",
      "source": "items[:1]",
      "execution_count": 7,
      "outputs": [
        {
          "output_type": "execute_result",
          "execution_count": 7,
          "data": {
            "text/plain": "[{'doc': So there is no way for me to plug it in here in the US unless I go by a converter.,\n  'label': 0,\n  'sentence': 'So there is no way for me to plug it in here in the US unless I go by a converter.',\n  'source': {'idx': 0, 'path': 'amazon_cells_labelled.txt'}}]"
          },
          "metadata": {}
        }
      ]
    },
    {
      "metadata": {
        "_uuid": "69c6d7ea240a191abfaaf00574f09521944387d7",
        "_cell_guid": "a8240a39-7002-435b-ba45-ac859d209f7f"
      },
      "cell_type": "markdown",
      "source": "#### 2a: Find the ten most frequent words in the training set."
    },
    {
      "metadata": {
        "_uuid": "76627568142aa4580329dabaa52180dc55394b56",
        "_cell_guid": "fc50ab58-0ef4-4231-bfe4-452f55aa625d",
        "collapsed": true,
        "trusted": true
      },
      "cell_type": "code",
      "source": "from collections import Counter",
      "execution_count": 8,
      "outputs": []
    },
    {
      "metadata": {
        "_uuid": "8c2f4dc8614ede032e7f091584d33ac89d1e736b",
        "_cell_guid": "c57d7963-4d3e-44d0-a990-abe6b1c68d98",
        "trusted": true
      },
      "cell_type": "code",
      "source": "# it really depends what we count as a \"word\"\ncounts = Counter()\nfor i in items:\n    if i['source']['path'] in TRAIN_FILES:\n        counts.update(t.text.lower() for t in i['doc'])\nprint(\"Most common tokens:\")\ncounts.most_common(10)",
      "execution_count": 9,
      "outputs": [
        {
          "output_type": "stream",
          "text": "Most common tokens:\n",
          "name": "stdout"
        },
        {
          "output_type": "execute_result",
          "execution_count": 9,
          "data": {
            "text/plain": "[('.', 1729),\n ('the', 1432),\n (',', 1012),\n ('and', 826),\n ('a', 669),\n ('i', 658),\n ('is', 517),\n ('of', 504),\n ('was', 501),\n ('it', 476)]"
          },
          "metadata": {}
        }
      ]
    },
    {
      "metadata": {
        "_uuid": "00c4af76c61b11aeac8fff422eff194cedf8a53f",
        "_cell_guid": "e21631f0-462c-49f7-a725-c25f62dd97b7",
        "trusted": true
      },
      "cell_type": "code",
      "source": "counts = Counter()\nfor i in items:\n    if i['source']['path'] in TRAIN_FILES:\n        for t in i['doc']:\n            if not t.is_stop and not t.is_punct and not t.lemma_ in nlp.Defaults.stop_words:\n                counts[t.lemma_] += 1\nprint(\"Most common non-stop, non-punctuation, lemmatized tokens:\")\ncounts.most_common(10)",
      "execution_count": 10,
      "outputs": [
        {
          "output_type": "stream",
          "text": "Most common non-stop, non-punctuation, lemmatized tokens:\n",
          "name": "stdout"
        },
        {
          "output_type": "execute_result",
          "execution_count": 10,
          "data": {
            "text/plain": "[('-PRON-', 2016),\n ('good', 230),\n ('movie', 212),\n ('film', 189),\n ('food', 127),\n ('bad', 126),\n ('place', 119),\n ('great', 115),\n ('like', 111),\n ('time', 103)]"
          },
          "metadata": {}
        }
      ]
    },
    {
      "metadata": {
        "_uuid": "9fc839577f6db6963a874419e4b277897ff21126",
        "_cell_guid": "c88c81fe-7c5f-4209-b001-ed98d17ff655"
      },
      "cell_type": "markdown",
      "source": "## Extract features"
    },
    {
      "metadata": {
        "_uuid": "fba871fc4fd2c2e51a2e58c08b245bcbf95802e8",
        "_cell_guid": "dfbebe25-6a06-470f-a217-86588a2c667c",
        "collapsed": true,
        "trusted": true
      },
      "cell_type": "code",
      "source": "import numpy\n\n# compute the cosine similarity between a pair of vectors\n# we will use this for word-vector features\ndef sim(a, b):\n    res = numpy.dot(a, b) / (numpy.linalg.norm(a) * numpy.linalg.norm(b))\n    if numpy.isnan(res):\n        return 0.\n    return res",
      "execution_count": 11,
      "outputs": []
    },
    {
      "metadata": {
        "_uuid": "16455db50b42112677fd0b725638bc1ac3ee00a3",
        "_cell_guid": "13f9fa22-bc45-42e4-88b6-b85ce6a1442f",
        "trusted": true
      },
      "cell_type": "code",
      "source": "DELEX_POS_TAGS = {'PROPN', 'NOUN'}\ndef delexicalize(doc):\n    tks = []\n    for t in doc:\n        if t.pos_ in DELEX_POS_TAGS:\n            if not tks or tks[-1] != t.pos_:\n                tks.append(t.pos_)\n        else:\n            tks.append(t.lemma_)\n    return tks",
      "execution_count": 13,
      "outputs": []
    },
    {
      "metadata": {
        "_uuid": "e675c5b52468293bb2d0c70fa8ecd5bcb2e66625",
        "_cell_guid": "8bbf72c2-efb1-470f-a91a-1040594a5fb1",
        "trusted": true
      },
      "cell_type": "code",
      "source": "def extract_bag_of_ngrams(item):\n    tokens = [t.lemma_.lower() for t in item['doc']]    \n    bigrams = ['|'.join(ngram) for ngram in zip(tokens, tokens[1:])]\n    for t in set(tokens + bigrams):\n        yield t, True\n\ndef extract_root_tokens(item):\n    for t in item['doc']:\n        if t.dep_ == 'ROOT':\n            yield t.lemma_, True\n\ndef extract_delex_ngrams(item):\n    tokens = [t for t in delexicalize(item['doc'])]\n    bigrams = ['|'.join(ngram) for ngram in zip(tokens, tokens[1:])]\n    for t in set(bigrams):\n        yield t, True\n\nfrom scipy.spatial.distance import cosine as cosine_distance\ngood = nlp('good').vector\nbad = nlp('bad').vector\ngv = good - bad\n\ndef extract_doc_vect_sim(item):\n    yield 'good', sim(item['doc'].vector, good)\n    yield 'bad', sim(item['doc'].vector, bad)\n    yield 'proj', sim(item['doc'].vector, gv)\n    \n    token_sims = [sim(t.vector, gv) for t in item['doc']]\n    yield 'max(proj)', max(token_sims)\n    yield 'min(proj)', min(token_sims)\n    yield 'direction', numpy.argmax(token_sims) > numpy.argmin(token_sims)\n\nFEATURES = [\n    ('bow', extract_bag_of_ngrams),\n    ('root', extract_root_tokens),\n    ('vect', extract_doc_vect_sim),\n    ('delex', extract_delex_ngrams)\n]\n\ndef get_features_for_item(item):\n    features = {}\n    for tag, extractor in FEATURES:\n        for key, value in extractor(item):\n            features[tag+':'+key] = value\n    return features\n\nfor i in tqdm(items):\n    i['features'] = get_features_for_item(i)",
      "execution_count": 14,
      "outputs": [
        {
          "output_type": "display_data",
          "data": {
            "text/plain": "A Jupyter Widget",
            "application/vnd.jupyter.widget-view+json": {
              "version_major": 2,
              "version_minor": 0,
              "model_id": "95232639ff1849f198b276685b1cbece"
            }
          },
          "metadata": {}
        },
        {
          "output_type": "stream",
          "text": "/opt/conda/lib/python3.6/site-packages/ipykernel_launcher.py:6: RuntimeWarning: invalid value encountered in float_scalars\n  \n",
          "name": "stderr"
        },
        {
          "output_type": "stream",
          "text": "\n",
          "name": "stdout"
        }
      ]
    },
    {
      "metadata": {
        "_uuid": "6f408cf9eb76c1d4f52cdbf14577ac32ad7feb2a",
        "_cell_guid": "601cca8b-52e3-4f5a-bdd2-cd3eabbc4101"
      },
      "cell_type": "markdown",
      "source": "### Split into train/dev/test"
    },
    {
      "metadata": {
        "_uuid": "bef9e10deb82a38a02e6997cfd41a3b2e2398f3f",
        "_cell_guid": "199b1f05-bd46-46b2-9004-efb9d5a4273c",
        "trusted": true
      },
      "cell_type": "code",
      "source": "train = [i for i in items if i['source']['path'] in TRAIN_FILES]\ntest = [i for i in items if i['source']['path'] in TEST_FILES]\n\nrandom.shuffle(train)\nrandom.shuffle(test)\n\n# in real task we might split off a separate dev-set here for model validation + feature engineering\n# e.g:\n# dev_split_idx = len(train)//4\n# dev, train = train[:dev_split_idx], train[dev_split_idx:]\n# print('Dev:', len(dev))\n\n# for the sake of this task, we'll just use cross-val for hyperparams selection and just note\n# that we're implicitly p-hacking the held-out eval when feature engineering\nprint('Train:', len(train))\nprint('Test', len(test))",
      "execution_count": 15,
      "outputs": [
        {
          "output_type": "stream",
          "text": "Train: 2000\nTest 1000\n",
          "name": "stdout"
        }
      ]
    },
    {
      "metadata": {
        "_uuid": "eb8b033dc4a841702ae52d4ec71e7718b3257dda",
        "_cell_guid": "f4cc399e-66c4-4bf7-a8e1-03711372c7b4"
      },
      "cell_type": "markdown",
      "source": "### 3. Train your model and justify your choices."
    },
    {
      "metadata": {
        "_uuid": "2d50c7559db0e49ac5285cbb0bffe99f50b3ef04",
        "_cell_guid": "64b3eb73-a97a-4468-a6a0-20e9090c30c1",
        "collapsed": true,
        "trusted": true
      },
      "cell_type": "code",
      "source": "def items_to_dataset(items):\n    X, Y = [], []\n    for i in items:\n        X.append(i['features'])\n        Y.append(i['label'])\n    return X, Y\ntrain_X, train_Y = items_to_dataset(train)\ntest_X, test_Y = items_to_dataset(test)",
      "execution_count": 16,
      "outputs": []
    },
    {
      "metadata": {
        "_uuid": "1a128a28c02359118e3f01160fdff293531e4cc8",
        "_cell_guid": "15054516-cd79-4593-aeef-e06d76e10981",
        "collapsed": true,
        "trusted": true
      },
      "cell_type": "code",
      "source": "from sklearn.pipeline import Pipeline\nfrom sklearn.feature_extraction import DictVectorizer\nfrom sklearn.ensemble import RandomForestClassifier\nfrom sklearn.model_selection import GridSearchCV\n\ngrid = {\n    \"n_estimators\": [25, 100, 200],\n    \"max_depth\": [3, None],\n}\n\nclf = Pipeline((\n    ('vectorizer', DictVectorizer()),\n    ('classifier', GridSearchCV(RandomForestClassifier(), param_grid=grid, cv=5))\n))\n\nmodel = clf.fit(train_X, train_Y)",
      "execution_count": 17,
      "outputs": []
    },
    {
      "metadata": {
        "_uuid": "55b706bdb6c338562c3ae8d2eb03ac0c502c96d2",
        "_cell_guid": "099ca5c8-a193-44cd-a780-161a5f7bdd8b",
        "trusted": true
      },
      "cell_type": "code",
      "source": "model.steps[-1][1].best_estimator_",
      "execution_count": 18,
      "outputs": [
        {
          "output_type": "execute_result",
          "execution_count": 18,
          "data": {
            "text/plain": "RandomForestClassifier(bootstrap=True, class_weight=None, criterion='gini',\n            max_depth=None, max_features='auto', max_leaf_nodes=None,\n            min_impurity_decrease=0.0, min_impurity_split=None,\n            min_samples_leaf=1, min_samples_split=2,\n            min_weight_fraction_leaf=0.0, n_estimators=200, n_jobs=1,\n            oob_score=False, random_state=None, verbose=0,\n            warm_start=False)"
          },
          "metadata": {}
        }
      ]
    },
    {
      "metadata": {
        "_uuid": "f4eeecd64b54cc05098affe6cca4c40204af8ecf",
        "_cell_guid": "1a5840b2-c84c-42f6-9fc9-4fed64e48298"
      },
      "cell_type": "markdown",
      "source": "### 4. Evaluate your model using metric(s) you see fit and justify your choices."
    },
    {
      "metadata": {
        "_uuid": "500f34cbb0b2af52e5dfbf079a127a87f8289efe",
        "_cell_guid": "d8f5ec71-940e-481f-b411-c303df25d035",
        "trusted": true
      },
      "cell_type": "code",
      "source": "from sklearn.metrics import accuracy_score\n\ny_pred = model.predict(test_X)\nprint('Accuracy:', accuracy_score(test_Y, y_pred))",
      "execution_count": 19,
      "outputs": [
        {
          "output_type": "stream",
          "text": "Accuracy: 0.855\n",
          "name": "stdout"
        }
      ]
    },
    {
      "metadata": {
        "_uuid": "b2202c3e622e59ace48882d0346be24d2bec2608",
        "collapsed": true,
        "_cell_guid": "c40efaf6-060e-4494-a40b-5ce9ffacab86",
        "trusted": true
      },
      "cell_type": "code",
      "source": "# to calculate a bootstrapped ci we just iteratively resample instances\n# with replacement then look at the distribution of scores for some metric (i.e. accuracy)\ndef compute_bootstrapped_ci(y_pred, y, ci, n_samples=10000):\n    y, y_pred = numpy.array(y), numpy.array(y_pred)\n\n    scores = []\n    for _ in range(n_samples):\n        idxs = numpy.random.randint(len(y_pred), size=len(y_pred))\n        scores.append(accuracy_score(y[idxs], y_pred[idxs]))\n\n    bounds = (100-ci)/2\n    return numpy.percentile(scores, [bounds, 100-bounds])",
      "execution_count": 20,
      "outputs": []
    },
    {
      "metadata": {
        "_uuid": "062b99a88d85d9801558795c7b628798d7eb512e",
        "_cell_guid": "835dfb24-018b-4ae4-bf62-d50ada1ab7e0",
        "trusted": true
      },
      "cell_type": "code",
      "source": "print(\"Confidence intervals for ACC:\")\nprint(\"95%:\", compute_bootstrapped_ci(y_pred, test_Y, 95))\nprint(\"99%:\", compute_bootstrapped_ci(y_pred, test_Y, 99))",
      "execution_count": 21,
      "outputs": [
        {
          "output_type": "stream",
          "text": "Confidence intervals for ACC:\n95%: [0.833 0.876]\n99%: [0.826 0.883]\n",
          "name": "stdout"
        }
      ]
    },
    {
      "metadata": {
        "_uuid": "e676def452e84b0a93e9f0ba3f917862593b619a",
        "_cell_guid": "baf7b513-b0ae-469d-911f-4ea80e7520ee",
        "trusted": true
      },
      "cell_type": "code",
      "source": "from collections import defaultdict\nfrom sklearn.metrics import precision_recall_fscore_support\n\nmeasures = precision_recall_fscore_support(test_Y, y_pred, average=None)\n\n# let's turn these into a nice table for printing\nmeasure_map = ['precision', 'recall', 'fscore', 'support']\nclass_measures = defaultdict(dict)\nfor m, measure in enumerate(measures):\n    for c, result in enumerate(measure):\n        class_measures[LABEL_MAP[c]][measure_map[m]] = result\n\n# for some feature sets, pos/neg p/r will be unbalanced\nprint(''.rjust(30), ''.join(m.rjust(10) for m in measure_map))\nfor c, measures in class_measures.items():\n    print(c.rjust(30), ''.join('{:.3f}'.format(measures[m]).rjust(10) for m in measure_map))",
      "execution_count": 22,
      "outputs": [
        {
          "output_type": "stream",
          "text": "                                precision    recall    fscore   support\n                      negative      0.854     0.856     0.855   500.000\n                      positive      0.856     0.854     0.855   500.000\n",
          "name": "stdout"
        }
      ]
    },
    {
      "metadata": {
        "_uuid": "cb71b9e54c7314eceb6485a6510953ebd7548da0",
        "_cell_guid": "3c187fe6-7e7e-4ea9-ae2a-d072e5d79bc9",
        "trusted": true
      },
      "cell_type": "code",
      "source": "%matplotlib inline\nfrom sklearn.metrics import precision_recall_curve\nimport matplotlib.pyplot as plt\nprecision, recall, _ = precision_recall_curve(test_Y, [p[1] for p in model.predict_proba(test_X)])\nplt.figure(figsize=(6, 6))\nplt.plot(recall, precision)\nplt.xlabel('Recall')\nplt.ylabel('Precision')",
      "execution_count": 23,
      "outputs": [
        {
          "output_type": "execute_result",
          "execution_count": 23,
          "data": {
            "text/plain": "Text(0,0.5,'Precision')"
          },
          "metadata": {}
        },
        {
          "output_type": "display_data",
          "data": {
            "text/plain": "<matplotlib.figure.Figure at 0x7fc8103d9908>",
            "image/png": "[encoded data removed]"
          },
          "metadata": {}
        }
      ]
    },
    {
      "metadata": {
        "_uuid": "41db279986ba738f0851a3e676109d62c1be03b3",
        "_cell_guid": "7fb5cc1c-566c-40c9-9947-5d1c83ed67ae"
      },
      "cell_type": "markdown",
      "source": "## Model introspection"
    },
    {
      "metadata": {
        "_uuid": "c8c0906a7b86f66c74639f8d27079f05e7a0179d",
        "_cell_guid": "7f84b27d-6b1c-4f4f-b8a0-593d11fd69c3",
        "trusted": true
      },
      "cell_type": "code",
      "source": "# what are the most important features?\nselected_clf = model.steps[-1][1].best_estimator_\nfeature_importances = sorted(zip(selected_clf.feature_importances_, model.steps[0][1].get_feature_names()), reverse=True)\nfeature_importances[:10]",
      "execution_count": 24,
      "outputs": [
        {
          "output_type": "execute_result",
          "execution_count": 24,
          "data": {
            "text/plain": "[(0.05427131273198408, 'vect:proj'),\n (0.04797502942057439, 'vect:min(proj)'),\n (0.03380696992352641, 'vect:max(proj)'),\n (0.023781211055738268, 'vect:bad'),\n (0.01279503359060074, 'bow:not'),\n (0.00900958138334652, 'vect:good'),\n (0.00723409893915622, 'bow:great'),\n (0.00636432365836536, 'bow:bad'),\n (0.004503404274126933, 'delex:be|not'),\n (0.004358828067519962, 'bow:love')]"
          },
          "metadata": {}
        }
      ]
    },
    {
      "metadata": {
        "_uuid": "176ed7a9e6b963646562ce41ae73b4394f59f2af",
        "_cell_guid": "8609c5b4-c804-4c53-898c-9d0a5509a204"
      },
      "cell_type": "markdown",
      "source": "### Error analysis\n\nTo understand the mistakes made by the model, we consider instances where the model assigns a high liklihood to a label, but is wrong."
    },
    {
      "metadata": {
        "_uuid": "3a4284fa0b90d968962ebe93b185bc5199618a4a",
        "collapsed": true,
        "_cell_guid": "fbf62f45-8238-4859-af3b-300e02251f4f",
        "trusted": true
      },
      "cell_type": "code",
      "source": "feature_importance_ranks = {k:i for i, (_, k) in enumerate(feature_importances)}",
      "execution_count": 25,
      "outputs": []
    },
    {
      "metadata": {
        "_uuid": "92f7a48d4d06decb27e155bce0e09b3382c9a4eb",
        "_cell_guid": "c1690fe9-9569-4cbe-877b-d1fbb38ccd4e",
        "trusted": true
      },
      "cell_type": "code",
      "source": "# for each mistake, we have lots of features but generally only need to see the most important ones to interpret decisions\ndef get_top_features(features, limit=10):\n    return sorted(features.keys(), key=lambda k: feature_importance_ranks.get(k, len(feature_importance_ranks)))[:limit]\n\nmistakes = []\nfor item, label, probs in zip(test, test_Y, model.predict_proba(test_X)):\n    if label != numpy.argmax(probs):\n        mistakes.append((numpy.max(probs), LABEL_MAP[item['label']], item['sentence'], get_top_features(item['features'])))\nsorted(mistakes, reverse=True)[:10]",
      "execution_count": 26,
      "outputs": [
        {
          "output_type": "execute_result",
          "execution_count": 26,
          "data": {
            "text/plain": "[(0.98,\n  'negative',\n  'Excellent starter wireless headset.',\n  ['vect:proj',\n   'vect:min(proj)',\n   'vect:max(proj)',\n   'vect:bad',\n   'vect:good',\n   'vect:direction',\n   'bow:excellent',\n   'bow:.',\n   'delex:NOUN|.',\n   'bow:headset']),\n (0.95,\n  'positive',\n  'Because both ears are occupied, background is not distracting at all.',\n  ['vect:proj',\n   'vect:min(proj)',\n   'vect:max(proj)',\n   'vect:bad',\n   'bow:not',\n   'vect:good',\n   'delex:be|not',\n   'bow:be|not',\n   'vect:direction',\n   'bow:at']),\n (0.945,\n  'negative',\n  'The loudspeaker option is great, the bumpers with the lights is very ... appealing.',\n  ['vect:proj',\n   'vect:min(proj)',\n   'vect:max(proj)',\n   'vect:bad',\n   'vect:good',\n   'bow:great',\n   'vect:direction',\n   'bow:the',\n   'bow:.',\n   'bow:,']),\n (0.94,\n  'positive',\n  'This fixes all the problems.',\n  ['vect:proj',\n   'vect:min(proj)',\n   'vect:max(proj)',\n   'vect:bad',\n   'vect:good',\n   'vect:direction',\n   'bow:the',\n   'bow:.',\n   'bow:this',\n   'delex:the|NOUN']),\n (0.905,\n  'negative',\n  'Low Quality.',\n  ['vect:proj',\n   'vect:min(proj)',\n   'vect:max(proj)',\n   'vect:bad',\n   'vect:good',\n   'vect:direction',\n   'bow:.',\n   'delex:PROPN|.',\n   'bow:quality',\n   'bow:low']),\n (0.895,\n  'positive',\n  'I was able to do voice dialing in the car with no problem.',\n  ['vect:proj',\n   'vect:min(proj)',\n   'vect:max(proj)',\n   'vect:bad',\n   'vect:good',\n   'delex:no|NOUN',\n   'vect:direction',\n   'bow:no',\n   'bow:do',\n   'delex:-PRON-|be']),\n (0.87,\n  'positive',\n  \"My phone doesn't slide around my car now and the grip prevents my phone from slipping out of my hand.\",\n  ['vect:proj',\n   'vect:min(proj)',\n   'vect:max(proj)',\n   'vect:bad',\n   'bow:not',\n   'vect:good',\n   'bow:do|not',\n   'vect:direction',\n   'delex:do|not',\n   'bow:and']),\n (0.865,\n  'positive',\n  \"Gets a signal when other Verizon phones won't.\",\n  ['vect:proj',\n   'vect:min(proj)',\n   'vect:max(proj)',\n   'vect:bad',\n   'bow:not',\n   'vect:good',\n   'vect:direction',\n   'bow:.',\n   'bow:a',\n   'delex:a|NOUN']),\n (0.855,\n  'positive',\n  \"I've had no trouble accessing the Internet, downloading ringtones or performing any of the functions.\",\n  ['vect:proj',\n   'vect:min(proj)',\n   'vect:max(proj)',\n   'vect:bad',\n   'vect:good',\n   'delex:no|NOUN',\n   'vect:direction',\n   'bow:no',\n   'delex:NOUN|,',\n   'bow:-pron-']),\n (0.84,\n  'positive',\n  'They do not last forever, but is not overly expensive to replace.Easy to operate and the sound is much better than others I have tried.',\n  ['vect:proj',\n   'vect:min(proj)',\n   'vect:max(proj)',\n   'vect:bad',\n   'bow:not',\n   'vect:good',\n   'delex:be|not',\n   'bow:do|not',\n   'bow:good',\n   'bow:be|not'])]"
          },
          "metadata": {}
        }
      ]
    },
    {
      "metadata": {
        "_uuid": "87a6daf6342c1f824ee127ff45b2ab6ce0d916ff",
        "collapsed": true,
        "_cell_guid": "1147537f-edb1-43ae-815c-0a20a7e35b42",
        "trusted": false
      },
      "cell_type": "code",
      "source": "",
      "execution_count": null,
      "outputs": []
    }
  ],
  "metadata": {
    "kernelspec": {
      "display_name": "Python 3",
      "language": "python",
      "name": "python3"
    },
    "language_info": {
      "name": "python",
      "version": "3.6.4",
      "mimetype": "text/x-python",
      "codemirror_mode": {
        "name": "ipython",
        "version": 3
      },
      "pygments_lexer": "ipython3",
      "nbconvert_exporter": "python",
      "file_extension": ".py"
    }
  },
  "nbformat": 4,
  "nbformat_minor": 1
}